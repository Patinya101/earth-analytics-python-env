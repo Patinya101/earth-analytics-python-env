{
 "cells": [
  {
   "cell_type": "markdown",
   "metadata": {},
   "source": [
    "# Determine which day had the most precipitation (i.n. the day of the greatest flooding) during the Fall 2013 flood in Boulder, CO, U.S.A."
   ]
  },
  {
   "cell_type": "code",
   "execution_count": 1,
   "metadata": {},
   "outputs": [],
   "source": [
    "# Import necessary packages\n",
    "import matplotlib.pyplot as plt\n",
    "import pandas as pd"
   ]
  },
  {
   "cell_type": "code",
   "execution_count": 2,
   "metadata": {},
   "outputs": [],
   "source": [
    "# Create data\n",
    "boulder_precip = pd.DataFrame(columns=[\"date\", \"precip\"], \n",
    "                              data=[\n",
    "                                  [\"2013-09-09\", 0.1], [\"2013-09-10\", 1.0], \n",
    "                                  [\"2013-09-11\", 2.3], [\"2013-09-12\", 9.8], [\"2013-09-13\", 1.9],\n",
    "                                  [\"2013-09-14\", 0.01], [\"2013-09-15\", 1.4], [\"2013-09-16\", 0.4]])     "
   ]
  },
  {
   "cell_type": "code",
   "execution_count": 5,
   "metadata": {},
   "outputs": [
    {
     "data": {
      "image/png": "[encoded data removed]",
      "text/plain": [
       "<Figure size 432x288 with 1 Axes>"
      ]
     },
     "metadata": {
      "needs_background": "light"
     },
     "output_type": "display_data"
    }
   ],
   "source": [
    "# Create plot\n",
    "fig, ax = plt.subplots()\n",
    "ax.bar(boulder_precip['date'].values, boulder_precip['precip'].values)\n",
    "ax.set(title=\"Daily Precipitation (inches)\\nBoulder, Colorado 2013\", \n",
    "       xlabel=\"Date\", ylabel=\"Precipitation (Inches)\")\n",
    "plt.setp(ax.get_xticklabels(), rotation=45);"
   ]
  },
  {
   "cell_type": "markdown",
   "metadata": {},
   "source": [
    "$e^{i\\pi} + 1 = 0$"
   ]
  },
  {
   "cell_type": "markdown",
   "metadata": {},
   "source": [
    "$$e^x=\\sum_{i=0}^\\infty \\frac{1}{i!}x^i$$"
   ]
  },
  {
   "cell_type": "code",
   "execution_count": null,
   "metadata": {},
   "outputs": [],
   "source": [
    "$$e^x=\\sum_{i=0}^\\infty \\frac{1}{i!}x^i$$"
   ]
  }
 ],
 "metadata": {
  "kernelspec": {
   "display_name": "Python 3",
   "language": "python",
   "name": "python3"
  },
  "language_info": {
   "codemirror_mode": {
    "name": "ipython",
    "version": 3
   },
   "file_extension": ".py",
   "mimetype": "text/x-python",
   "name": "python",
   "nbconvert_exporter": "python",
   "pygments_lexer": "ipython3",
   "version": "3.7.4"
  }
 },
 "nbformat": 4,
 "nbformat_minor": 4
}
